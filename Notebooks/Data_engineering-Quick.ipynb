{
 "cells": [
  {
   "cell_type": "code",
   "execution_count": 4,
   "metadata": {},
   "outputs": [],
   "source": [
    "import pandas as pd"
   ]
  },
  {
   "cell_type": "code",
   "execution_count": 65,
   "metadata": {},
   "outputs": [],
   "source": [
    "# create an empty list \n",
    "l = []\n",
    "# read dataset in\n",
    "with open('/Users/assansanogo/Downloads/big.txt','r') as f:\n",
    "# read the content in list of lines\n",
    "    l = f.readlines()"
   ]
  },
  {
   "cell_type": "code",
   "execution_count": 72,
   "metadata": {},
   "outputs": [],
   "source": [
    "# replace the newline character (\"\\n\") by empty character\n",
    "l_no_backline = [el.replace(\"\\n\",\"\") for el in l]"
   ]
  },
  {
   "cell_type": "code",
   "execution_count": 73,
   "metadata": {},
   "outputs": [],
   "source": [
    "# replace the single quotes by empty character\n",
    "l_no_quotes = [el.replace(\"'\",\"\") for el in l_no_backline]"
   ]
  },
  {
   "cell_type": "code",
   "execution_count": 80,
   "metadata": {},
   "outputs": [],
   "source": [
    "# replace the dots\n",
    "l_no_dot = [el.replace(\".\",\" \").replace(\":\",\"\") for el in l_no_quotes]"
   ]
  },
  {
   "cell_type": "code",
   "execution_count": 91,
   "metadata": {},
   "outputs": [],
   "source": [
    "# replace special characters\n",
    "l_no_special_char = [el.replace(\"ö\",\"o\").\\\n",
    "                     replace(\"î\",\"i\").\\\n",
    "                     replace(\"í\",\"i\").\\\n",
    "                     replace(\"ó\",\"o\").\\\n",
    "                     replace(\"ô\",\"o\").\\\n",
    "                     replace(\"ø\",\"o\").\\\n",
    "                     replace(\"ñ\",\"n\").\\\n",
    "                     replace(\"ü\",\"u\").\\\n",
    "                     replace(\"µ\",\"u\").\\\n",
    "                     replace(\"û\",\"u\").\\\n",
    "                     replace(\"ú\",\"u\").\\\n",
    "                     replace(\"ç\",\"c\").\\\n",
    "                     replace(\"ê\",\"e\").\\\n",
    "                     replace(\"é\",\"e\").\\\n",
    "                     replace(\"è\",\"e\").\\\n",
    "                     replace(\"ë\",\"e\").\\\n",
    "                     replace(\"ä\",\"a\").\\\n",
    "                     replace(\"à\",\"a\").\\\n",
    "                     replace(\"á\",\"a\").\\\n",
    "                     replace(\"â\",\"a\").\\\n",
    "                     replace(\"ý\",\"y\").\\\n",
    "                     replace(\"(\",\"\").\\\n",
    "                     replace(\")\",\"\").\\\n",
    "                     replace(\"[\",\"\").\\\n",
    "                     replace(\"]\",\"\").\\\n",
    "                     replace(\"&\",\"\").\\\n",
    "                     replace(\"+\",\"\").\\\n",
    "                     replace(\",\",\"\")\n",
    "                     \n",
    "                     for el in l_no_dot]"
   ]
  },
  {
   "cell_type": "code",
   "execution_count": 92,
   "metadata": {},
   "outputs": [],
   "source": [
    "# authorized alphabet (original from Ismael)\n",
    "alphabet = list(pd.read_csv(\"/Users/assansanogo/Downloads/ocrnames.names\", header=None).values.flatten())"
   ]
  },
  {
   "cell_type": "code",
   "execution_count": 95,
   "metadata": {},
   "outputs": [
    {
     "data": {
      "text/plain": [
       "['a',\n",
       " 'b',\n",
       " 'c',\n",
       " 'd',\n",
       " 'e',\n",
       " 'f',\n",
       " 'g',\n",
       " 'h',\n",
       " 'i',\n",
       " 'j',\n",
       " 'k',\n",
       " 'l',\n",
       " 'm',\n",
       " 'n',\n",
       " 'o',\n",
       " 'p',\n",
       " 'q',\n",
       " 'r',\n",
       " 's',\n",
       " 't',\n",
       " 'u',\n",
       " 'v',\n",
       " 'w',\n",
       " 'x',\n",
       " 'y',\n",
       " 'z',\n",
       " '-',\n",
       " 'A',\n",
       " 'B',\n",
       " 'C',\n",
       " 'D',\n",
       " 'E',\n",
       " 'F',\n",
       " 'G',\n",
       " 'H',\n",
       " 'I',\n",
       " 'J',\n",
       " 'K',\n",
       " 'L',\n",
       " 'M',\n",
       " 'N',\n",
       " 'O',\n",
       " 'P',\n",
       " 'Q',\n",
       " 'R',\n",
       " 'S',\n",
       " 'T',\n",
       " 'U',\n",
       " 'V',\n",
       " 'W',\n",
       " 'X',\n",
       " 'Y',\n",
       " 'Z',\n",
       " '_']"
      ]
     },
     "execution_count": 95,
     "metadata": {},
     "output_type": "execute_result"
    }
   ],
   "source": [
    "alphabet"
   ]
  },
  {
   "cell_type": "code",
   "execution_count": 93,
   "metadata": {},
   "outputs": [],
   "source": [
    "# extended alphabet original alphabet + space + chiffres\n",
    "for el in l_no_special_char:\n",
    "    if (all(element in alphabet + [\" \"] + [str(el) for el in range(10)] for element in el)) is False :\n",
    "        print(el)"
   ]
  },
  {
   "cell_type": "code",
   "execution_count": 94,
   "metadata": {},
   "outputs": [
    {
     "data": {
      "text/plain": [
       "98096"
      ]
     },
     "execution_count": 94,
     "metadata": {},
     "output_type": "execute_result"
    }
   ],
   "source": [
    "len(l_no_special_char)"
   ]
  },
  {
   "cell_type": "code",
   "execution_count": null,
   "metadata": {},
   "outputs": [],
   "source": [
    "# Classes finales : "
   ]
  },
  {
   "cell_type": "markdown",
   "metadata": {},
   "source": [
    "- a to z \n",
    "- A to Z \n",
    "- 0 to 9 \n",
    "- (tiret)"
   ]
  },
  {
   "cell_type": "markdown",
   "metadata": {},
   "source": [
    "# PLS REMOVE UNDERSCORE"
   ]
  },
  {
   "cell_type": "code",
   "execution_count": 97,
   "metadata": {},
   "outputs": [],
   "source": [
    "# new file (corrected)\n",
    "with open('/Users/assansanogo/Downloads/big_corrected.txt','a') as f:\n",
    "    # iterate over elements from the list\n",
    "    for line in l_no_special_char:\n",
    "        # write each line in the document\n",
    "        f.write(line)\n",
    "        # write a line\n",
    "        f.write(\"\\n\")"
   ]
  },
  {
   "cell_type": "code",
   "execution_count": null,
   "metadata": {},
   "outputs": [],
   "source": []
  }
 ],
 "metadata": {
  "kernelspec": {
   "display_name": "Python 3",
   "language": "python",
   "name": "python3"
  },
  "language_info": {
   "codemirror_mode": {
    "name": "ipython",
    "version": 3
   },
   "file_extension": ".py",
   "mimetype": "text/x-python",
   "name": "python",
   "nbconvert_exporter": "python",
   "pygments_lexer": "ipython3",
   "version": "3.7.3"
  }
 },
 "nbformat": 4,
 "nbformat_minor": 4
}
