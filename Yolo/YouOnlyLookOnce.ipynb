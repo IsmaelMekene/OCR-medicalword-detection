{
 "cells": [
  {
   "cell_type": "code",
   "execution_count": 48,
   "metadata": {},
   "outputs": [
    {
     "name": "stdout",
     "output_type": "stream",
     "text": [
      "Requirement already up-to-date: Pillow in /usr/local/lib/python3.6/dist-packages\n",
      "Collecting tesseract-ocr\n",
      "  Using cached https://files.pythonhosted.org/packages/e2/0d/dcee3dd0fc4c7bcd18125a98f8ba6d9db7aecaa40770595203e312649587/tesseract-ocr-0.0.1.tar.gz\n",
      "Requirement already satisfied: cython in /usr/local/lib/python3.6/dist-packages (from tesseract-ocr)\n",
      "Building wheels for collected packages: tesseract-ocr\n",
      "  Running setup.py bdist_wheel for tesseract-ocr ... \u001b[?25lerror\n",
      "  Complete output from command /usr/bin/python3 -u -c \"import setuptools, tokenize;__file__='/tmp/pip-build-pxvn0cn2/tesseract-ocr/setup.py';f=getattr(tokenize, 'open', open)(__file__);code=f.read().replace('\\r\\n', '\\n');f.close();exec(compile(code, __file__, 'exec'))\" bdist_wheel -d /tmp/tmph9lbjnbmpip-wheel- --python-tag cp36:\n",
      "  running bdist_wheel\n",
      "  running build\n",
      "  running build_py\n",
      "  file tesseract_ocr.py (for module tesseract_ocr) not found\n",
      "  file tesseract_ocr.py (for module tesseract_ocr) not found\n",
      "  running build_ext\n",
      "  building 'tesseract_ocr' extension\n",
      "  creating build\n",
      "  creating build/temp.linux-x86_64-3.6\n",
      "  x86_64-linux-gnu-gcc -pthread -DNDEBUG -g -fwrapv -O2 -Wall -g -fstack-protector-strong -Wformat -Werror=format-security -Wdate-time -D_FORTIFY_SOURCE=2 -fPIC -I/usr/include/python3.6m -c tesseract_ocr.cpp -o build/temp.linux-x86_64-3.6/tesseract_ocr.o\n",
      "  tesseract_ocr.cpp:643:10: fatal error: leptonica/allheaders.h: No such file or directory\n",
      "   #include \"leptonica/allheaders.h\"\n",
      "            ^~~~~~~~~~~~~~~~~~~~~~~~\n",
      "  compilation terminated.\n",
      "  error: command 'x86_64-linux-gnu-gcc' failed with exit status 1\n",
      "  \n",
      "  ----------------------------------------\n",
      "\u001b[31m  Failed building wheel for tesseract-ocr\u001b[0m\n",
      "\u001b[?25h  Running setup.py clean for tesseract-ocr\n",
      "Failed to build tesseract-ocr\n",
      "Installing collected packages: tesseract-ocr\n",
      "  Running setup.py install for tesseract-ocr ... \u001b[?25lerror\n",
      "    Complete output from command /usr/bin/python3 -u -c \"import setuptools, tokenize;__file__='/tmp/pip-build-pxvn0cn2/tesseract-ocr/setup.py';f=getattr(tokenize, 'open', open)(__file__);code=f.read().replace('\\r\\n', '\\n');f.close();exec(compile(code, __file__, 'exec'))\" install --record /tmp/pip-786dlily-record/install-record.txt --single-version-externally-managed --compile:\n",
      "    running install\n",
      "    running build\n",
      "    running build_py\n",
      "    file tesseract_ocr.py (for module tesseract_ocr) not found\n",
      "    file tesseract_ocr.py (for module tesseract_ocr) not found\n",
      "    running build_ext\n",
      "    building 'tesseract_ocr' extension\n",
      "    creating build\n",
      "    creating build/temp.linux-x86_64-3.6\n",
      "    x86_64-linux-gnu-gcc -pthread -DNDEBUG -g -fwrapv -O2 -Wall -g -fstack-protector-strong -Wformat -Werror=format-security -Wdate-time -D_FORTIFY_SOURCE=2 -fPIC -I/usr/include/python3.6m -c tesseract_ocr.cpp -o build/temp.linux-x86_64-3.6/tesseract_ocr.o\n",
      "    tesseract_ocr.cpp:643:10: fatal error: leptonica/allheaders.h: No such file or directory\n",
      "     #include \"leptonica/allheaders.h\"\n",
      "              ^~~~~~~~~~~~~~~~~~~~~~~~\n",
      "    compilation terminated.\n",
      "    error: command 'x86_64-linux-gnu-gcc' failed with exit status 1\n",
      "    \n",
      "    ----------------------------------------\n",
      "\u001b[31mCommand \"/usr/bin/python3 -u -c \"import setuptools, tokenize;__file__='/tmp/pip-build-pxvn0cn2/tesseract-ocr/setup.py';f=getattr(tokenize, 'open', open)(__file__);code=f.read().replace('\\r\\n', '\\n');f.close();exec(compile(code, __file__, 'exec'))\" install --record /tmp/pip-786dlily-record/install-record.txt --single-version-externally-managed --compile\" failed with error code 1 in /tmp/pip-build-pxvn0cn2/tesseract-ocr/\u001b[0m\n",
      "\u001b[?25hRequirement already satisfied: numpy in /usr/local/lib/python3.6/dist-packages\n",
      "Requirement already satisfied: tqdm in /usr/local/lib/python3.6/dist-packages\n",
      "Collecting os\n",
      "\u001b[31mException:\n",
      "Traceback (most recent call last):\n",
      "  File \"/usr/lib/python3/dist-packages/pip/basecommand.py\", line 215, in main\n",
      "    status = self.run(options, args)\n",
      "  File \"/usr/lib/python3/dist-packages/pip/commands/install.py\", line 353, in run\n",
      "    wb.build(autobuilding=True)\n",
      "  File \"/usr/lib/python3/dist-packages/pip/wheel.py\", line 749, in build\n",
      "    self.requirement_set.prepare_files(self.finder)\n",
      "  File \"/usr/lib/python3/dist-packages/pip/req/req_set.py\", line 380, in prepare_files\n",
      "    ignore_dependencies=self.ignore_dependencies))\n",
      "  File \"/usr/lib/python3/dist-packages/pip/req/req_set.py\", line 554, in _prepare_file\n",
      "    require_hashes\n",
      "  File \"/usr/lib/python3/dist-packages/pip/req/req_install.py\", line 278, in populate_link\n",
      "    self.link = finder.find_requirement(self, upgrade)\n",
      "  File \"/usr/lib/python3/dist-packages/pip/index.py\", line 465, in find_requirement\n",
      "    all_candidates = self.find_all_candidates(req.name)\n",
      "  File \"/usr/lib/python3/dist-packages/pip/index.py\", line 423, in find_all_candidates\n",
      "    for page in self._get_pages(url_locations, project_name):\n",
      "  File \"/usr/lib/python3/dist-packages/pip/index.py\", line 568, in _get_pages\n",
      "    page = self._get_page(location)\n",
      "  File \"/usr/lib/python3/dist-packages/pip/index.py\", line 683, in _get_page\n",
      "    return HTMLPage.get_page(link, session=self.session)\n",
      "  File \"/usr/lib/python3/dist-packages/pip/index.py\", line 795, in get_page\n",
      "    resp.raise_for_status()\n",
      "  File \"/usr/share/python-wheels/requests-2.18.4-py2.py3-none-any.whl/requests/models.py\", line 935, in raise_for_status\n",
      "    raise HTTPError(http_error_msg, response=self)\n",
      "requests.exceptions.HTTPError: 404 Client Error: Not Found for url: https://pypi.org/simple/os/\u001b[0m\n",
      "Collecting codecs\n",
      "\u001b[31mException:\n",
      "Traceback (most recent call last):\n",
      "  File \"/usr/lib/python3/dist-packages/pip/basecommand.py\", line 215, in main\n",
      "    status = self.run(options, args)\n",
      "  File \"/usr/lib/python3/dist-packages/pip/commands/install.py\", line 353, in run\n",
      "    wb.build(autobuilding=True)\n",
      "  File \"/usr/lib/python3/dist-packages/pip/wheel.py\", line 749, in build\n",
      "    self.requirement_set.prepare_files(self.finder)\n",
      "  File \"/usr/lib/python3/dist-packages/pip/req/req_set.py\", line 380, in prepare_files\n",
      "    ignore_dependencies=self.ignore_dependencies))\n",
      "  File \"/usr/lib/python3/dist-packages/pip/req/req_set.py\", line 554, in _prepare_file\n",
      "    require_hashes\n",
      "  File \"/usr/lib/python3/dist-packages/pip/req/req_install.py\", line 278, in populate_link\n",
      "    self.link = finder.find_requirement(self, upgrade)\n",
      "  File \"/usr/lib/python3/dist-packages/pip/index.py\", line 465, in find_requirement\n",
      "    all_candidates = self.find_all_candidates(req.name)\n",
      "  File \"/usr/lib/python3/dist-packages/pip/index.py\", line 423, in find_all_candidates\n",
      "    for page in self._get_pages(url_locations, project_name):\n",
      "  File \"/usr/lib/python3/dist-packages/pip/index.py\", line 568, in _get_pages\n",
      "    page = self._get_page(location)\n",
      "  File \"/usr/lib/python3/dist-packages/pip/index.py\", line 683, in _get_page\n",
      "    return HTMLPage.get_page(link, session=self.session)\n",
      "  File \"/usr/lib/python3/dist-packages/pip/index.py\", line 795, in get_page\n",
      "    resp.raise_for_status()\n",
      "  File \"/usr/share/python-wheels/requests-2.18.4-py2.py3-none-any.whl/requests/models.py\", line 935, in raise_for_status\n",
      "    raise HTTPError(http_error_msg, response=self)\n",
      "requests.exceptions.HTTPError: 404 Client Error: Not Found for url: https://pypi.org/simple/codecs/\u001b[0m\n",
      "Requirement already satisfied: pytesseract in /usr/local/lib/python3.6/dist-packages\n",
      "Requirement already satisfied: Pillow in /usr/local/lib/python3.6/dist-packages (from pytesseract)\n",
      "Collecting opencv-python\n",
      "  Using cached https://files.pythonhosted.org/packages/30/46/821920986c7ce5bae5518c1d490e520a9ab4cef51e3e54e35094dadf0d68/opencv-python-4.4.0.46.tar.gz\n",
      "    Complete output from command python setup.py egg_info:\n",
      "    Traceback (most recent call last):\n",
      "      File \"<string>\", line 1, in <module>\n",
      "      File \"/tmp/pip-build-djw4xpx5/opencv-python/setup.py\", line 9, in <module>\n",
      "        import skbuild\n",
      "    ModuleNotFoundError: No module named 'skbuild'\n",
      "    \n",
      "    ----------------------------------------\n",
      "\u001b[31mCommand \"python setup.py egg_info\" failed with error code 1 in /tmp/pip-build-djw4xpx5/opencv-python/\u001b[0m\n",
      "Requirement already satisfied: pandas in /usr/local/lib/python3.6/dist-packages\n",
      "Requirement already satisfied: numpy>=1.15.4 in /usr/local/lib/python3.6/dist-packages (from pandas)\n",
      "Requirement already satisfied: pytz>=2017.2 in /usr/local/lib/python3.6/dist-packages (from pandas)\n"
     ]
    },
    {
     "name": "stdout",
     "output_type": "stream",
     "text": [
      "Requirement already satisfied: python-dateutil>=2.7.3 in /usr/local/lib/python3.6/dist-packages (from pandas)\r\n",
      "Requirement already satisfied: six>=1.5 in /usr/lib/python3/dist-packages (from python-dateutil>=2.7.3->pandas)\r\n"
     ]
    }
   ],
   "source": [
    "!pip3 install --upgrade Pillow\n",
    "!pip3 install tesseract-ocr\n",
    "!pip3 install numpy\n",
    "!pip3 install tqdm\n",
    "!pip3 install os\n",
    "!pip3 install codecs\n",
    "!pip3 install pytesseract\n",
    "!pip3 install opencv-python\n",
    "!pip3 install pandas "
   ]
  },
  {
   "cell_type": "code",
   "execution_count": 49,
   "metadata": {},
   "outputs": [],
   "source": [
    "\n",
    "from PIL import Image, ImageDraw, ImageFont\n",
    "import pytesseract\n",
    "import cv2\n",
    "import os\n",
    "import codecs\n",
    "from tqdm import tqdm\n",
    "import numpy as np\n",
    "import sys\n",
    "import json\n",
    "from decimal import *\n",
    "import pandas as pd"
   ]
  },
  {
   "cell_type": "code",
   "execution_count": null,
   "metadata": {},
   "outputs": [],
   "source": [
    "#form Tesseract to vgg "
   ]
  },
  {
   "cell_type": "code",
   "execution_count": null,
   "metadata": {},
   "outputs": [],
   "source": [
    "ls /mekeneocr/computer-vision-ocr/annotations"
   ]
  },
  {
   "cell_type": "code",
   "execution_count": null,
   "metadata": {},
   "outputs": [],
   "source": [
    "#set the folders and files paths to avoid heavy calls in the functions\n",
    "vgg = \"/mekeneocr/computer-vision-ocr/vgg/vgg.txt\"                         #file containing vgg annotations \n",
    "annotations = \"/mekeneocr/computer-vision-ocr/annotations/annotations.txt\" #file containing images annotations \n",
    "\n",
    "\n",
    "def convert_tesseract_to_vgg(annotations, vgg, encoding = 'latin1'):\n",
    "    ''' This will help in converting from tesseract annotation to vgg annotation. \n",
    "        The target format is: Anesthetist.png,1076,\"{}\",11,1,\"{\"\"name\"\":\"\"rect\"\",\"\"x\"\":10,\"\"y\"\":8,\"\"width\"\":17,\"\"height\"\":22}\",\"{\"\"name\"\":\"\"A\"\"}\" \n",
    "        The source format is: Anesthetist.png A 10 8 17 22 0'''\n",
    "    \n",
    "    # holds all the lines for a word, one line for each character\n",
    "    lines = \"\"\n",
    "    title = \"\"\n",
    "    \n",
    "    #number of letters in the word\n",
    "    letter_counter = 1\n",
    "    \n",
    "    #number of exceptions\n",
    "    error_counter = 0\n",
    "    outputfile = codecs.open(vgg, 'w', encoding = 'utf-8') #write file that will contain the vgg annotations \n",
    "    errorfile = codecs.open('errors_in_to_vgg.txt', 'w', encoding = 'utf-8') #file that will contain errors in case\n",
    "    \n",
    "    # header for the file\n",
    "    title_words = ['filename',\n",
    "                   'file_size',\n",
    "                   'file_attributes',\n",
    "                   'region_count',\n",
    "                   'region_id',\n",
    "                   'region_shape_attributes',\n",
    "                   'region_attributes']\n",
    "    \n",
    "    for word in title_words:\n",
    "        title = title + word + ','\n",
    "    title = title + '\\n'    \n",
    "    outputfile.write(title)\n",
    "    \n",
    "    for each_line in open(annotations, \"r\", encoding =  'utf-8'):\n",
    "        try:        \n",
    "            if (each_line == \"\\n\"):      #If empty line, then new word begining and write the previous word to file\n",
    "                if len(lines) > 0:\n",
    "                    lines = lines.replace(\"$\", str(letter_counter-1)) # $ is the place holder for number of letters\n",
    "                    letter_counter = 1               # reset letter counter\n",
    "                    outputfile.write(lines)          # write all the lines (one for each letter) \n",
    "                    outputfile.write(\"\\n\")           # write new line\n",
    "                    lines = \"\"                       # reset the lines for next word to empty\n",
    "            else:\n",
    "                # single word file name\n",
    "                if len(each_line.split(' '))  == 7:\n",
    "                    filename, letter, x, y, width, height, _ = each_line.split(' ') # not working for multiline words\n",
    "                    \n",
    "                #double word filen name\n",
    "                elif len(each_line.split(' ')) == 8:\n",
    "                    filenamew1, filenamew2, letter, x, y, width, height, _ = each_line.split(' ')\n",
    "                    filename = filenamew1 + ' ' + filenamew2\n",
    "                    \n",
    "                #three words file name\n",
    "                elif len(each_line.split(' ')) == 9:\n",
    "                    filenamew1, filenamew2, filenamew3, letter, x, y, width, height, _ = each_line.split(' ')\n",
    "                    filename = filenamew1 + ' ' + filenamew2 + ' ' + filenamew3\n",
    "                 \n",
    "                # file size is set to dummy value of 1076\n",
    "                lines = lines + filename + \",\" + \"1076,\\\"{}\\\",\" + \"$,\" + str(letter_counter) + \",\" + \"\\\"{\\\"\\\"name\\\"\\\":\" + \"\\\"\\\"rect\\\"\\\",\"+ \"\\\"\\\"x\\\"\\\"\" + \":\" + str(x) + \",\\\"\\\"y\\\"\\\"\" + \":\" + str(y) + \",\\\"\\\"width\\\"\\\"\" + \":\" + str(width) + \",\\\"\\\"height\\\"\\\"\" + \":\" + str(height) + \"}\\\",\\\"{\\\"\\\"name\\\"\\\":\" + \"\\\"\\\"\" + str(letter) + \"\\\"\\\"}\\\"\" +\"\\n\"\n",
    "                letter_counter = letter_counter + 1\n",
    "                \n",
    "        except Exception as runtime_except:        #in case of errors \n",
    "            print(each_line)\n",
    "            errorfile.write(each_line)            \n",
    "            print('error in converting to vgg for line:', each_line)\n",
    "            error_counter = error_counter + 1\n",
    "            print(runtime_except)\n",
    "            pass\n",
    "        \n",
    "    errorfile.close()\n",
    "    return(error_counter)"
   ]
  },
  {
   "cell_type": "code",
   "execution_count": null,
   "metadata": {},
   "outputs": [],
   "source": [
    "def main():\n",
    "    convert_tesseract_to_vgg(annotations, vgg, encoding = 'latin1')\n",
    "    \n",
    "if __name__ == \"__main__\":\n",
    "    main()"
   ]
  },
  {
   "cell_type": "code",
   "execution_count": null,
   "metadata": {},
   "outputs": [],
   "source": [
    "#from vgg to yolo "
   ]
  },
  {
   "cell_type": "code",
   "execution_count": null,
   "metadata": {},
   "outputs": [],
   "source": [
    "#converting the vgg.txt file in to .csv\n",
    "\n",
    "read_file = pd.read_csv (r\"/mekeneocr/computer-vision-ocr/vgg2/vgg2.txt\")\n",
    "read_file.to_csv (r\"/mekeneocr/computer-vision-ocr/vgg2/vgg2.csv\", index=None)"
   ]
  },
  {
   "cell_type": "code",
   "execution_count": 13,
   "metadata": {},
   "outputs": [],
   "source": [
    "import os"
   ]
  },
  {
   "cell_type": "code",
   "execution_count": null,
   "metadata": {},
   "outputs": [],
   "source": [
    "image_files_path = \"/mekeneocr/computer-vision-ocr/yolo/\""
   ]
  },
  {
   "cell_type": "code",
   "execution_count": 5,
   "metadata": {},
   "outputs": [],
   "source": [
    "liste_vide = []\n",
    "with open(r\"/mekeneocr/computer-vision-ocr/vgg/vgg.txt\", \"r\", encoding='utf-8') as f1:\n",
    "    liste_vide = f1.readlines()\n",
    "    "
   ]
  },
  {
   "cell_type": "code",
   "execution_count": 6,
   "metadata": {
    "scrolled": false
   },
   "outputs": [
    {
     "data": {
      "text/plain": [
       "['filename,file_size,file_attributes,region_count,region_id,region_shape_attributes,region_attributes,\\n',\n",
       " 'Mekinist.png,1076,\"{}\",8,1,\"{\"\"name\"\":\"\"rect\"\",\"\"x\"\":11,\"\"y\"\":8,\"\"width\"\":17,\"\"height\"\":22}\",\"{\"\"name\"\":\"\"M\"\"}\"\\n',\n",
       " 'Mekinist.png,1076,\"{}\",8,2,\"{\"\"name\"\":\"\"rect\"\",\"\"x\"\":17,\"\"y\"\":8,\"\"width\"\":25,\"\"height\"\":22}\",\"{\"\"name\"\":\"\"e\"\"}\"\\n',\n",
       " 'Mekinist.png,1076,\"{}\",8,3,\"{\"\"name\"\":\"\"rect\"\",\"\"x\"\":28,\"\"y\"\":8,\"\"width\"\":37,\"\"height\"\":18}\",\"{\"\"name\"\":\"\"k\"\"}\"\\n',\n",
       " 'Mekinist.png,1076,\"{}\",8,4,\"{\"\"name\"\":\"\"rect\"\",\"\"x\"\":39,\"\"y\"\":8,\"\"width\"\":46,\"\"height\"\":22}\",\"{\"\"name\"\":\"\"i\"\"}\"\\n']"
      ]
     },
     "execution_count": 6,
     "metadata": {},
     "output_type": "execute_result"
    }
   ],
   "source": [
    "liste_vide[:5]"
   ]
  },
  {
   "cell_type": "code",
   "execution_count": 7,
   "metadata": {},
   "outputs": [],
   "source": [
    "all_png_files = [el.split(\",\")[0] for el in liste_vide if el.split(\",\")[0].endswith(\".png\")]\n",
    "liste_all_png_files = list(set(all_png_files))"
   ]
  },
  {
   "cell_type": "code",
   "execution_count": 8,
   "metadata": {},
   "outputs": [
    {
     "data": {
      "text/plain": [
       "['Mekinist.png',\n",
       " 'Mekinist.png',\n",
       " 'Mekinist.png',\n",
       " 'Mekinist.png',\n",
       " 'Mekinist.png',\n",
       " 'Mekinist.png',\n",
       " 'Mekinist.png',\n",
       " 'Mekinist.png',\n",
       " 'Morpheus.png',\n",
       " 'Morpheus.png']"
      ]
     },
     "execution_count": 8,
     "metadata": {},
     "output_type": "execute_result"
    }
   ],
   "source": [
    "all_png_files[:10]"
   ]
  },
  {
   "cell_type": "code",
   "execution_count": 10,
   "metadata": {},
   "outputs": [
    {
     "data": {
      "text/plain": [
       "56844"
      ]
     },
     "execution_count": 10,
     "metadata": {},
     "output_type": "execute_result"
    }
   ],
   "source": [
    "len(liste_all_png_files)"
   ]
  },
  {
   "cell_type": "code",
   "execution_count": 28,
   "metadata": {},
   "outputs": [
    {
     "data": {
      "text/plain": [
       "['FocalSeal.png',\n",
       " 'antidepressive.png',\n",
       " 'choleperitonitis.png',\n",
       " 'hypersplenia.png',\n",
       " 'aorta.png',\n",
       " 'grid.png',\n",
       " 'hypnogenic.png',\n",
       " 'Clagett.png',\n",
       " 'dequalinium.png',\n",
       " 'acustica.png']"
      ]
     },
     "execution_count": 28,
     "metadata": {},
     "output_type": "execute_result"
    }
   ],
   "source": [
    "liste_all_png_files[:10]"
   ]
  },
  {
   "cell_type": "code",
   "execution_count": 11,
   "metadata": {},
   "outputs": [],
   "source": [
    "path_images = \"/mekeneocr/computer-vision-ocr/images\""
   ]
  },
  {
   "cell_type": "code",
   "execution_count": 14,
   "metadata": {},
   "outputs": [],
   "source": [
    "liste_all_png_files_ = [os.path.join(path_images, el) for el in liste_all_png_files]"
   ]
  },
  {
   "cell_type": "code",
   "execution_count": 26,
   "metadata": {},
   "outputs": [],
   "source": [
    "groupe1 = liste_all_png_files_[:5000]\n",
    "groupe2= liste_all_png_files_[5001:10000]\n",
    "groupe3= liste_all_png_files_[10001:15000]\n",
    "groupe4= liste_all_png_files_[15001:20000]\n",
    "groupe5= liste_all_png_files_[20001:25000]\n",
    "groupe6= liste_all_png_files_[25001:30000]\n",
    "groupe7= liste_all_png_files_[30001:35000]\n",
    "groupe8= liste_all_png_files_[35001:40000]\n",
    "groupe9= liste_all_png_files_[40001:45000]\n",
    "groupe10= liste_all_png_files_[45001:50000]\n"
   ]
  },
  {
   "cell_type": "code",
   "execution_count": 16,
   "metadata": {},
   "outputs": [],
   "source": [
    "import shutil"
   ]
  },
  {
   "cell_type": "code",
   "execution_count": null,
   "metadata": {},
   "outputs": [],
   "source": [
    "images_groupe1 = \"/mekeneocr/computer-vision-ocr/images_groupe1\"\n",
    "for thing in groupe1:\n",
    "    try:\n",
    "        \n",
    "        shutil.copy(thing, images_groupe1)\n",
    "    except FileNotFoundError:\n",
    "        print(thing)"
   ]
  },
  {
   "cell_type": "code",
   "execution_count": null,
   "metadata": {},
   "outputs": [],
   "source": [
    "images_groupe2 = \"/mekeneocr/computer-vision-ocr/images_groupe2\"\n",
    "for thing in groupe2:\n",
    "    try:\n",
    "        \n",
    "        shutil.copy(thing, images_groupe2)\n",
    "    except FileNotFoundError:\n",
    "        print(thing)"
   ]
  },
  {
   "cell_type": "code",
   "execution_count": 18,
   "metadata": {},
   "outputs": [],
   "source": [
    "import pickle "
   ]
  },
  {
   "cell_type": "code",
   "execution_count": null,
   "metadata": {},
   "outputs": [],
   "source": [
    "with open(\"/mekeneocr/computer-vision-ocr/groupe3.pkl\",'wb') as outfile:\n",
    "\n",
    "    pickle.dump(groupe3, outfile)"
   ]
  },
  {
   "cell_type": "code",
   "execution_count": null,
   "metadata": {},
   "outputs": [],
   "source": []
  },
  {
   "cell_type": "code",
   "execution_count": 189,
   "metadata": {},
   "outputs": [],
   "source": [
    "with open(\"/mekeneocr/computer-vision-ocr/groupe2.pkl\",'wb') as outfile:\n",
    "\n",
    "    pickle.dump(groupe2, outfile)"
   ]
  },
  {
   "cell_type": "code",
   "execution_count": null,
   "metadata": {},
   "outputs": [],
   "source": []
  },
  {
   "cell_type": "code",
   "execution_count": 190,
   "metadata": {},
   "outputs": [],
   "source": [
    "with open(\"/mekeneocr/computer-vision-ocr/groupe1.pkl\",'wb') as outfile:\n",
    "\n",
    "    pickle.dump(groupe1, outfile)"
   ]
  },
  {
   "cell_type": "code",
   "execution_count": null,
   "metadata": {},
   "outputs": [],
   "source": []
  },
  {
   "cell_type": "code",
   "execution_count": null,
   "metadata": {},
   "outputs": [],
   "source": []
  },
  {
   "cell_type": "code",
   "execution_count": 65,
   "metadata": {},
   "outputs": [],
   "source": [
    "with open(\"/mekeneocr/computer-vision-ocr/vgg/vgg.txt\",'r', encoding = 'utf-8') as f1:\n",
    "    Lines = f1.readlines()"
   ]
  },
  {
   "cell_type": "code",
   "execution_count": 66,
   "metadata": {},
   "outputs": [
    {
     "data": {
      "text/plain": [
       "['filename,file_size,file_attributes,region_count,region_id,region_shape_attributes,region_attributes,\\n',\n",
       " 'Mekinist.png,1076,\"{}\",8,1,\"{\"\"name\"\":\"\"rect\"\",\"\"x\"\":11,\"\"y\"\":8,\"\"width\"\":17,\"\"height\"\":22}\",\"{\"\"name\"\":\"\"M\"\"}\"\\n',\n",
       " 'Mekinist.png,1076,\"{}\",8,2,\"{\"\"name\"\":\"\"rect\"\",\"\"x\"\":17,\"\"y\"\":8,\"\"width\"\":25,\"\"height\"\":22}\",\"{\"\"name\"\":\"\"e\"\"}\"\\n',\n",
       " 'Mekinist.png,1076,\"{}\",8,3,\"{\"\"name\"\":\"\"rect\"\",\"\"x\"\":28,\"\"y\"\":8,\"\"width\"\":37,\"\"height\"\":18}\",\"{\"\"name\"\":\"\"k\"\"}\"\\n',\n",
       " 'Mekinist.png,1076,\"{}\",8,4,\"{\"\"name\"\":\"\"rect\"\",\"\"x\"\":39,\"\"y\"\":8,\"\"width\"\":46,\"\"height\"\":22}\",\"{\"\"name\"\":\"\"i\"\"}\"\\n']"
      ]
     },
     "execution_count": 66,
     "metadata": {},
     "output_type": "execute_result"
    }
   ],
   "source": [
    "Lines[:5]"
   ]
  },
  {
   "cell_type": "code",
   "execution_count": 67,
   "metadata": {},
   "outputs": [],
   "source": [
    "with open(\"/mekeneocr/computer-vision-ocr/groupe10.pkl\",'rb')  as infile:\n",
    "    Picks = pickle.load(infile)"
   ]
  },
  {
   "cell_type": "code",
   "execution_count": 72,
   "metadata": {},
   "outputs": [
    {
     "data": {
      "text/plain": [
       "['/mekeneocr/computer-vision-ocr/images/endotheliosis.png',\n",
       " '/mekeneocr/computer-vision-ocr/images/colloides.png',\n",
       " '/mekeneocr/computer-vision-ocr/images/ethmosphenoid.png',\n",
       " '/mekeneocr/computer-vision-ocr/images/Dengue.png',\n",
       " '/mekeneocr/computer-vision-ocr/images/apperceive.png']"
      ]
     },
     "execution_count": 72,
     "metadata": {},
     "output_type": "execute_result"
    }
   ],
   "source": [
    "Picks[:5]"
   ]
  },
  {
   "cell_type": "code",
   "execution_count": 69,
   "metadata": {},
   "outputs": [],
   "source": [
    "import tqdm  "
   ]
  },
  {
   "cell_type": "code",
   "execution_count": 77,
   "metadata": {},
   "outputs": [
    {
     "name": "stderr",
     "output_type": "stream",
     "text": [
      "100%|██████████| 623999/623999 [00:51<00:00, 12178.82it/s]\n"
     ]
    }
   ],
   "source": [
    "\n",
    "with open(\"/mekeneocr/computer-vision-ocr/vgg10.txt\",'w', encoding = 'utf-8') as f2:\n",
    "    for thing in tqdm.tqdm(Lines):\n",
    "        if os.path.join('/mekeneocr/computer-vision-ocr/images', thing.split(',')[0]) in Picks:\n",
    "            #print(thing)\n",
    "            #break \n",
    "            f2.write(thing)"
   ]
  },
  {
   "cell_type": "code",
   "execution_count": null,
   "metadata": {},
   "outputs": [],
   "source": []
  },
  {
   "cell_type": "code",
   "execution_count": 78,
   "metadata": {},
   "outputs": [],
   "source": [
    "#convert vgg.txt to vgg.csv\n",
    "read_file = pd.read_csv (r\"/mekeneocr/computer-vision-ocr/vgg10.txt\")\n",
    "read_file.to_csv (r\"/mekeneocr/computer-vision-ocr/vgg10.csv\", index=None)"
   ]
  },
  {
   "cell_type": "code",
   "execution_count": null,
   "metadata": {},
   "outputs": [],
   "source": []
  },
  {
   "cell_type": "code",
   "execution_count": 174,
   "metadata": {},
   "outputs": [
    {
     "name": "stderr",
     "output_type": "stream",
     "text": [
      "100%|██████████| 623999/623999 [00:45<00:00, 13713.11it/s]\n"
     ]
    }
   ],
   "source": [
    "with open(\"/mekeneocr/computer-vision-ocr/vgg/vgg.txt\",'r', encoding = 'utf-8') as f1:\n",
    "    Lines = f1.readlines()\n",
    "    with open(\"/mekeneocr/computer-vision-ocr/groupe9.pkl\",'rb')  as infile:\n",
    "        Picks = pickle.load(infile)\n",
    "        with open(\"/mekeneocr/computer-vision-ocr/vgg9.txt\",'w', encoding = 'utf-8') as f2:\n",
    "            for thing in tqdm.tqdm(Lines):\n",
    "                if os.path.join('/mekeneocr/computer-vision-ocr/images/', thing.split(',')[0]) in Picks:\n",
    "                    f2.write(thing)\n",
    "        "
   ]
  },
  {
   "cell_type": "code",
   "execution_count": null,
   "metadata": {},
   "outputs": [],
   "source": []
  },
  {
   "cell_type": "code",
   "execution_count": 175,
   "metadata": {},
   "outputs": [],
   "source": [
    "#convert vgg.txt to vgg.csv\n",
    "read_file = pd.read_csv (r\"/mekeneocr/computer-vision-ocr/vgg9.txt\")\n",
    "read_file.to_csv (r\"/mekeneocr/computer-vision-ocr/vgg9.csv\", index=None)"
   ]
  },
  {
   "cell_type": "code",
   "execution_count": null,
   "metadata": {},
   "outputs": [],
   "source": []
  },
  {
   "cell_type": "code",
   "execution_count": 176,
   "metadata": {},
   "outputs": [
    {
     "name": "stderr",
     "output_type": "stream",
     "text": [
      "100%|██████████| 623999/623999 [00:48<00:00, 12978.10it/s]\n"
     ]
    }
   ],
   "source": [
    "with open(\"/mekeneocr/computer-vision-ocr/vgg/vgg.txt\",'r', encoding = 'utf-8') as f1:\n",
    "    Lines = f1.readlines()\n",
    "    with open(\"/mekeneocr/computer-vision-ocr/groupe8.pkl\",'rb')  as infile:\n",
    "        Picks = pickle.load(infile)\n",
    "        with open(\"/mekeneocr/computer-vision-ocr/vgg8.txt\",'w', encoding = 'utf-8') as f2:\n",
    "            for thing in tqdm.tqdm(Lines):\n",
    "                if os.path.join('/mekeneocr/computer-vision-ocr/images/', thing.split(',')[0]) in Picks:\n",
    "                    f2.write(thing)\n",
    "        "
   ]
  },
  {
   "cell_type": "code",
   "execution_count": null,
   "metadata": {},
   "outputs": [],
   "source": []
  },
  {
   "cell_type": "code",
   "execution_count": 178,
   "metadata": {},
   "outputs": [],
   "source": [
    "#convert vgg.txt to vgg.csv\n",
    "read_file = pd.read_csv (r\"/mekeneocr/computer-vision-ocr/vgg8.txt\")\n",
    "read_file.to_csv (r\"/mekeneocr/computer-vision-ocr/vgg8.csv\", index=None)"
   ]
  },
  {
   "cell_type": "code",
   "execution_count": null,
   "metadata": {},
   "outputs": [],
   "source": []
  },
  {
   "cell_type": "code",
   "execution_count": 179,
   "metadata": {},
   "outputs": [
    {
     "name": "stderr",
     "output_type": "stream",
     "text": [
      "100%|██████████| 623999/623999 [00:43<00:00, 14321.67it/s]\n"
     ]
    }
   ],
   "source": [
    "with open(\"/mekeneocr/computer-vision-ocr/vgg/vgg.txt\",'r', encoding = 'utf-8') as f1:\n",
    "    Lines = f1.readlines()\n",
    "    with open(\"/mekeneocr/computer-vision-ocr/groupe7.pkl\",'rb')  as infile:\n",
    "        Picks = pickle.load(infile)\n",
    "        with open(\"/mekeneocr/computer-vision-ocr/vgg7.txt\",'w', encoding = 'utf-8') as f2:\n",
    "            for thing in tqdm.tqdm(Lines):\n",
    "                if os.path.join('/mekeneocr/computer-vision-ocr/images/', thing.split(',')[0]) in Picks:\n",
    "                    f2.write(thing)\n",
    "        "
   ]
  },
  {
   "cell_type": "code",
   "execution_count": null,
   "metadata": {},
   "outputs": [],
   "source": []
  },
  {
   "cell_type": "code",
   "execution_count": 180,
   "metadata": {},
   "outputs": [],
   "source": [
    "#convert vgg.txt to vgg.csv\n",
    "read_file = pd.read_csv (r\"/mekeneocr/computer-vision-ocr/vgg7.txt\")\n",
    "read_file.to_csv (r\"/mekeneocr/computer-vision-ocr/vgg7.csv\", index=None)"
   ]
  },
  {
   "cell_type": "code",
   "execution_count": null,
   "metadata": {},
   "outputs": [],
   "source": []
  },
  {
   "cell_type": "code",
   "execution_count": 181,
   "metadata": {},
   "outputs": [
    {
     "name": "stderr",
     "output_type": "stream",
     "text": [
      "100%|██████████| 623999/623999 [00:45<00:00, 13619.15it/s]\n"
     ]
    }
   ],
   "source": [
    "with open(\"/mekeneocr/computer-vision-ocr/vgg/vgg.txt\",'r', encoding = 'utf-8') as f1:\n",
    "    Lines = f1.readlines()\n",
    "    with open(\"/mekeneocr/computer-vision-ocr/groupe6.pkl\",'rb')  as infile:\n",
    "        Picks = pickle.load(infile)\n",
    "        with open(\"/mekeneocr/computer-vision-ocr/vgg6.txt\",'w', encoding = 'utf-8') as f2:\n",
    "            for thing in tqdm.tqdm(Lines):\n",
    "                if os.path.join('/mekeneocr/computer-vision-ocr/images/', thing.split(',')[0]) in Picks:\n",
    "                    f2.write(thing)\n",
    "        "
   ]
  },
  {
   "cell_type": "code",
   "execution_count": null,
   "metadata": {},
   "outputs": [],
   "source": []
  },
  {
   "cell_type": "code",
   "execution_count": 182,
   "metadata": {},
   "outputs": [],
   "source": [
    "#convert vgg.txt to vgg.csv\n",
    "read_file = pd.read_csv (r\"/mekeneocr/computer-vision-ocr/vgg6.txt\")\n",
    "read_file.to_csv (r\"/mekeneocr/computer-vision-ocr/vgg6.csv\", index=None)"
   ]
  },
  {
   "cell_type": "code",
   "execution_count": null,
   "metadata": {},
   "outputs": [],
   "source": []
  },
  {
   "cell_type": "code",
   "execution_count": 183,
   "metadata": {},
   "outputs": [
    {
     "name": "stderr",
     "output_type": "stream",
     "text": [
      "100%|██████████| 623999/623999 [00:50<00:00, 12295.55it/s]\n"
     ]
    }
   ],
   "source": [
    "with open(\"/mekeneocr/computer-vision-ocr/vgg/vgg.txt\",'r', encoding = 'utf-8') as f1:\n",
    "    Lines = f1.readlines()\n",
    "    with open(\"/mekeneocr/computer-vision-ocr/groupe5.pkl\",'rb')  as infile:\n",
    "        Picks = pickle.load(infile)\n",
    "        with open(\"/mekeneocr/computer-vision-ocr/vgg5.txt\",'w', encoding = 'utf-8') as f2:\n",
    "            for thing in tqdm.tqdm(Lines):\n",
    "                if os.path.join('/mekeneocr/computer-vision-ocr/images/', thing.split(',')[0]) in Picks:\n",
    "                    f2.write(thing)\n",
    "        "
   ]
  },
  {
   "cell_type": "code",
   "execution_count": null,
   "metadata": {},
   "outputs": [],
   "source": []
  },
  {
   "cell_type": "code",
   "execution_count": 184,
   "metadata": {},
   "outputs": [],
   "source": [
    "#convert vgg.txt to vgg.csv\n",
    "read_file = pd.read_csv (r\"/mekeneocr/computer-vision-ocr/vgg5.txt\")\n",
    "read_file.to_csv (r\"/mekeneocr/computer-vision-ocr/vgg5.csv\", index=None)"
   ]
  },
  {
   "cell_type": "code",
   "execution_count": null,
   "metadata": {},
   "outputs": [],
   "source": []
  },
  {
   "cell_type": "code",
   "execution_count": 185,
   "metadata": {},
   "outputs": [
    {
     "name": "stderr",
     "output_type": "stream",
     "text": [
      "100%|██████████| 623999/623999 [00:50<00:00, 12467.94it/s]\n"
     ]
    }
   ],
   "source": [
    "with open(\"/mekeneocr/computer-vision-ocr/vgg/vgg.txt\",'r', encoding = 'utf-8') as f1:\n",
    "    Lines = f1.readlines()\n",
    "    with open(\"/mekeneocr/computer-vision-ocr/groupe4.pkl\",'rb')  as infile:\n",
    "        Picks = pickle.load(infile)\n",
    "        with open(\"/mekeneocr/computer-vision-ocr/vgg4.txt\",'w', encoding = 'utf-8') as f2:\n",
    "            for thing in tqdm.tqdm(Lines):\n",
    "                if os.path.join('/mekeneocr/computer-vision-ocr/images/', thing.split(',')[0]) in Picks:\n",
    "                    f2.write(thing)\n",
    "        "
   ]
  },
  {
   "cell_type": "code",
   "execution_count": null,
   "metadata": {},
   "outputs": [],
   "source": []
  },
  {
   "cell_type": "code",
   "execution_count": 186,
   "metadata": {},
   "outputs": [],
   "source": [
    "#convert vgg.txt to vgg.csv\n",
    "read_file = pd.read_csv (r\"/mekeneocr/computer-vision-ocr/vgg4.txt\")\n",
    "read_file.to_csv (r\"/mekeneocr/computer-vision-ocr/vgg4.csv\", index=None)"
   ]
  },
  {
   "cell_type": "code",
   "execution_count": null,
   "metadata": {},
   "outputs": [],
   "source": []
  },
  {
   "cell_type": "code",
   "execution_count": 187,
   "metadata": {},
   "outputs": [
    {
     "name": "stderr",
     "output_type": "stream",
     "text": [
      "100%|██████████| 623999/623999 [00:57<00:00, 10903.14it/s]\n"
     ]
    }
   ],
   "source": [
    "with open(\"/mekeneocr/computer-vision-ocr/vgg/vgg.txt\",'r', encoding = 'utf-8') as f1:\n",
    "    Lines = f1.readlines()\n",
    "    with open(\"/mekeneocr/computer-vision-ocr/groupe3.pkl\",'rb')  as infile:\n",
    "        Picks = pickle.load(infile)\n",
    "        with open(\"/mekeneocr/computer-vision-ocr/vgg3.txt\",'w', encoding = 'utf-8') as f2:\n",
    "            for thing in tqdm.tqdm(Lines):\n",
    "                if os.path.join('/mekeneocr/computer-vision-ocr/images/', thing.split(',')[0]) in Picks:\n",
    "                    f2.write(thing)\n",
    "        "
   ]
  },
  {
   "cell_type": "code",
   "execution_count": null,
   "metadata": {},
   "outputs": [],
   "source": []
  },
  {
   "cell_type": "code",
   "execution_count": 188,
   "metadata": {},
   "outputs": [],
   "source": [
    "#convert vgg.txt to vgg.csv\n",
    "read_file = pd.read_csv (r\"/mekeneocr/computer-vision-ocr/vgg3.txt\")\n",
    "read_file.to_csv (r\"/mekeneocr/computer-vision-ocr/vgg3.csv\", index=None)"
   ]
  },
  {
   "cell_type": "code",
   "execution_count": null,
   "metadata": {},
   "outputs": [],
   "source": []
  },
  {
   "cell_type": "code",
   "execution_count": 191,
   "metadata": {},
   "outputs": [
    {
     "name": "stderr",
     "output_type": "stream",
     "text": [
      "100%|██████████| 623999/623999 [00:46<00:00, 13278.99it/s]\n"
     ]
    }
   ],
   "source": [
    "with open(\"/mekeneocr/computer-vision-ocr/vgg/vgg.txt\",'r', encoding = 'utf-8') as f1:\n",
    "    Lines = f1.readlines()\n",
    "    with open(\"/mekeneocr/computer-vision-ocr/groupe2.pkl\",'rb')  as infile:\n",
    "        Picks = pickle.load(infile)\n",
    "        with open(\"/mekeneocr/computer-vision-ocr/vgg2.txt\",'w', encoding = 'utf-8') as f2:\n",
    "            for thing in tqdm.tqdm(Lines):\n",
    "                if os.path.join('/mekeneocr/computer-vision-ocr/images/', thing.split(',')[0]) in Picks:\n",
    "                    f2.write(thing)\n",
    "        "
   ]
  },
  {
   "cell_type": "code",
   "execution_count": null,
   "metadata": {},
   "outputs": [],
   "source": []
  },
  {
   "cell_type": "code",
   "execution_count": 192,
   "metadata": {},
   "outputs": [],
   "source": [
    "#convert vgg.txt to vgg.csv\n",
    "read_file = pd.read_csv (r\"/mekeneocr/computer-vision-ocr/vgg2.txt\")\n",
    "read_file.to_csv (r\"/mekeneocr/computer-vision-ocr/vgg2.csv\", index=None)"
   ]
  },
  {
   "cell_type": "code",
   "execution_count": null,
   "metadata": {},
   "outputs": [],
   "source": []
  },
  {
   "cell_type": "code",
   "execution_count": 193,
   "metadata": {},
   "outputs": [
    {
     "name": "stderr",
     "output_type": "stream",
     "text": [
      "100%|██████████| 623999/623999 [00:51<00:00, 12033.86it/s]\n"
     ]
    }
   ],
   "source": [
    "with open(\"/mekeneocr/computer-vision-ocr/vgg/vgg.txt\",'r', encoding = 'utf-8') as f1:\n",
    "    Lines = f1.readlines()\n",
    "    with open(\"/mekeneocr/computer-vision-ocr/groupe1.pkl\",'rb')  as infile:\n",
    "        Picks = pickle.load(infile)\n",
    "        with open(\"/mekeneocr/computer-vision-ocr/vgg1.txt\",'w', encoding = 'utf-8') as f2:\n",
    "            for thing in tqdm.tqdm(Lines):\n",
    "                if os.path.join('/mekeneocr/computer-vision-ocr/images/', thing.split(',')[0]) in Picks:\n",
    "                    f2.write(thing)\n",
    "        "
   ]
  },
  {
   "cell_type": "code",
   "execution_count": null,
   "metadata": {},
   "outputs": [],
   "source": []
  },
  {
   "cell_type": "code",
   "execution_count": 194,
   "metadata": {},
   "outputs": [],
   "source": [
    "#convert vgg.txt to vgg.csv\n",
    "read_file = pd.read_csv (r\"/mekeneocr/computer-vision-ocr/vgg1.txt\")\n",
    "read_file.to_csv (r\"/mekeneocr/computer-vision-ocr/vgg1.csv\", index=None)"
   ]
  },
  {
   "cell_type": "code",
   "execution_count": null,
   "metadata": {},
   "outputs": [],
   "source": []
  },
  {
   "cell_type": "code",
   "execution_count": null,
   "metadata": {},
   "outputs": [],
   "source": [
    "images_groupe3 = \"/mekeneocr/computer-vision-ocr/images_groupe3\"\n",
    "for thing in groupe3:\n",
    "    try:\n",
    "        \n",
    "        shutil.copy(thing, images_groupe3)\n",
    "    except FileNotFoundError:\n",
    "        print(thing)"
   ]
  },
  {
   "cell_type": "code",
   "execution_count": null,
   "metadata": {},
   "outputs": [],
   "source": []
  },
  {
   "cell_type": "code",
   "execution_count": 19,
   "metadata": {},
   "outputs": [],
   "source": [
    "with open(\"/mekeneocr/computer-vision-ocr/groupe4.pkl\",'wb') as outfile:\n",
    "\n",
    "    pickle.dump(groupe4, outfile)"
   ]
  },
  {
   "cell_type": "code",
   "execution_count": 1,
   "metadata": {},
   "outputs": [
    {
     "ename": "NameError",
     "evalue": "name 'groupe4' is not defined",
     "output_type": "error",
     "traceback": [
      "\u001b[0;31m---------------------------------------------------------------------------\u001b[0m",
      "\u001b[0;31mNameError\u001b[0m                                 Traceback (most recent call last)",
      "\u001b[0;32m<ipython-input-1-4d94c4a63e7d>\u001b[0m in \u001b[0;36m<module>\u001b[0;34m()\u001b[0m\n\u001b[1;32m      1\u001b[0m \u001b[0mimages_groupe4\u001b[0m \u001b[0;34m=\u001b[0m \u001b[0;34m\"/mekeneocr/computer-vision-ocr/images_groupe4\"\u001b[0m\u001b[0;34m\u001b[0m\u001b[0;34m\u001b[0m\u001b[0m\n\u001b[0;32m----> 2\u001b[0;31m \u001b[0;32mfor\u001b[0m \u001b[0mthing\u001b[0m \u001b[0;32min\u001b[0m \u001b[0mgroupe4\u001b[0m\u001b[0;34m:\u001b[0m\u001b[0;34m\u001b[0m\u001b[0;34m\u001b[0m\u001b[0m\n\u001b[0m\u001b[1;32m      3\u001b[0m     \u001b[0;32mtry\u001b[0m\u001b[0;34m:\u001b[0m\u001b[0;34m\u001b[0m\u001b[0;34m\u001b[0m\u001b[0m\n\u001b[1;32m      4\u001b[0m \u001b[0;34m\u001b[0m\u001b[0m\n\u001b[1;32m      5\u001b[0m         \u001b[0mshutil\u001b[0m\u001b[0;34m.\u001b[0m\u001b[0mcopy\u001b[0m\u001b[0;34m(\u001b[0m\u001b[0mthing\u001b[0m\u001b[0;34m,\u001b[0m \u001b[0mimages_groupe4\u001b[0m\u001b[0;34m)\u001b[0m\u001b[0;34m\u001b[0m\u001b[0;34m\u001b[0m\u001b[0m\n",
      "\u001b[0;31mNameError\u001b[0m: name 'groupe4' is not defined"
     ]
    }
   ],
   "source": [
    "images_groupe4 = \"/mekeneocr/computer-vision-ocr/images_groupe4\"\n",
    "for thing in groupe4:\n",
    "    try:\n",
    "        \n",
    "        shutil.copy(thing, images_groupe4)\n",
    "    except FileNotFoundError:\n",
    "        print(thing)"
   ]
  },
  {
   "cell_type": "code",
   "execution_count": null,
   "metadata": {},
   "outputs": [],
   "source": []
  },
  {
   "cell_type": "code",
   "execution_count": 20,
   "metadata": {},
   "outputs": [],
   "source": [
    "with open(\"/mekeneocr/computer-vision-ocr/groupe5.pkl\",'wb') as outfile:\n",
    "\n",
    "    pickle.dump(groupe5, outfile)"
   ]
  },
  {
   "cell_type": "code",
   "execution_count": null,
   "metadata": {},
   "outputs": [],
   "source": [
    "images_groupe5 = \"/mekeneocr/computer-vision-ocr/images_groupe5\"\n",
    "for thing in groupe5:\n",
    "    try:\n",
    "        \n",
    "        shutil.copy(thing, images_groupe5)\n",
    "    except FileNotFoundError:\n",
    "        print(thing)"
   ]
  },
  {
   "cell_type": "code",
   "execution_count": null,
   "metadata": {},
   "outputs": [],
   "source": []
  },
  {
   "cell_type": "code",
   "execution_count": 21,
   "metadata": {},
   "outputs": [],
   "source": [
    "with open(\"/mekeneocr/computer-vision-ocr/groupe6.pkl\",'wb') as outfile:\n",
    "\n",
    "    pickle.dump(groupe6, outfile)"
   ]
  },
  {
   "cell_type": "code",
   "execution_count": null,
   "metadata": {},
   "outputs": [],
   "source": [
    "images_groupe6 = \"/mekeneocr/computer-vision-ocr/images_groupe6\"\n",
    "for thing in groupe6:\n",
    "    try:\n",
    "        \n",
    "        shutil.copy(thing, images_groupe6)\n",
    "    except FileNotFoundError:\n",
    "        print(thing)"
   ]
  },
  {
   "cell_type": "code",
   "execution_count": null,
   "metadata": {},
   "outputs": [],
   "source": []
  },
  {
   "cell_type": "code",
   "execution_count": 22,
   "metadata": {},
   "outputs": [],
   "source": [
    "with open(\"/mekeneocr/computer-vision-ocr/groupe7.pkl\",'wb') as outfile:\n",
    "\n",
    "    pickle.dump(groupe7, outfile)"
   ]
  },
  {
   "cell_type": "code",
   "execution_count": null,
   "metadata": {},
   "outputs": [],
   "source": [
    "images_groupe7 = \"/mekeneocr/computer-vision-ocr/images_groupe7\"\n",
    "for thing in groupe7:\n",
    "    try:\n",
    "        \n",
    "        shutil.copy(thing, images_groupe7)\n",
    "    except FileNotFoundError:\n",
    "        print(thing)"
   ]
  },
  {
   "cell_type": "code",
   "execution_count": null,
   "metadata": {},
   "outputs": [],
   "source": []
  },
  {
   "cell_type": "code",
   "execution_count": 23,
   "metadata": {},
   "outputs": [],
   "source": [
    "with open(\"/mekeneocr/computer-vision-ocr/groupe8.pkl\",'wb') as outfile:\n",
    "\n",
    "    pickle.dump(groupe8, outfile)"
   ]
  },
  {
   "cell_type": "code",
   "execution_count": null,
   "metadata": {},
   "outputs": [],
   "source": [
    "images_groupe8 = \"/mekeneocr/computer-vision-ocr/images_groupe8\"\n",
    "for thing in groupe8:\n",
    "    try:\n",
    "        \n",
    "        shutil.copy(thing, images_groupe8)\n",
    "    except FileNotFoundError:\n",
    "        print(thing)"
   ]
  },
  {
   "cell_type": "code",
   "execution_count": null,
   "metadata": {},
   "outputs": [],
   "source": []
  },
  {
   "cell_type": "code",
   "execution_count": 24,
   "metadata": {},
   "outputs": [],
   "source": [
    "with open(\"/mekeneocr/computer-vision-ocr/groupe9.pkl\",'wb') as outfile:\n",
    "\n",
    "    pickle.dump(groupe9, outfile)"
   ]
  },
  {
   "cell_type": "code",
   "execution_count": null,
   "metadata": {},
   "outputs": [],
   "source": []
  },
  {
   "cell_type": "code",
   "execution_count": 25,
   "metadata": {},
   "outputs": [],
   "source": [
    "with open(\"/mekeneocr/computer-vision-ocr/groupe10.pkl\",'wb') as outfile:\n",
    "\n",
    "    pickle.dump(groupe10, outfile)"
   ]
  },
  {
   "cell_type": "code",
   "execution_count": null,
   "metadata": {},
   "outputs": [],
   "source": [
    "import multiprocessing "
   ]
  },
  {
   "cell_type": "code",
   "execution_count": null,
   "metadata": {},
   "outputs": [],
   "source": [
    " "
   ]
  },
  {
   "cell_type": "code",
   "execution_count": null,
   "metadata": {},
   "outputs": [],
   "source": [
    "images_groupe2 = \"/mekeneocr/computer-vision-ocr/images_groupe2\"\n",
    "def smart_copy(x):\n",
    "    global images_groupe2\n",
    "    \n",
    "    try:\n",
    "        \n",
    "        shutil.copy(x, images_groupe2)\n",
    "    except FileNotFoundError:\n",
    "        print(x)\n",
    "    "
   ]
  },
  {
   "cell_type": "code",
   "execution_count": null,
   "metadata": {},
   "outputs": [],
   "source": [
    "n_proc = multiprocessing.cpu_count()\n",
    "pool2 = multiprocessing.Pool(n_proc)\n",
    "res = [pool2.imap(smart_copy, images_groupe2)]\n",
    "#pool2.map(smart_copy, images_groupe2)"
   ]
  },
  {
   "cell_type": "code",
   "execution_count": null,
   "metadata": {},
   "outputs": [],
   "source": [
    "groupe1"
   ]
  },
  {
   "cell_type": "code",
   "execution_count": null,
   "metadata": {},
   "outputs": [],
   "source": []
  },
  {
   "cell_type": "code",
   "execution_count": null,
   "metadata": {},
   "outputs": [],
   "source": []
  },
  {
   "cell_type": "code",
   "execution_count": null,
   "metadata": {},
   "outputs": [],
   "source": [
    "liste_all_png_files_full = [os.path.join(\"/mekeneocr/computer-vision-ocr/images/\", el) for el in liste_all_png_files ]"
   ]
  },
  {
   "cell_type": "code",
   "execution_count": null,
   "metadata": {},
   "outputs": [],
   "source": [
    "os.path.exists('/mekeneocr/computer-vision-ocr/images/vigor.png')"
   ]
  },
  {
   "cell_type": "code",
   "execution_count": null,
   "metadata": {},
   "outputs": [],
   "source": [
    "import glob2"
   ]
  },
  {
   "cell_type": "code",
   "execution_count": null,
   "metadata": {},
   "outputs": [],
   "source": [
    "toutes_les_images = glob2.glob(\"/mekeneocr/computer-vision-ocr/images/*\")"
   ]
  },
  {
   "cell_type": "code",
   "execution_count": null,
   "metadata": {},
   "outputs": [],
   "source": [
    "len(toutes_les_images)"
   ]
  },
  {
   "cell_type": "code",
   "execution_count": null,
   "metadata": {},
   "outputs": [],
   "source": []
  },
  {
   "cell_type": "code",
   "execution_count": null,
   "metadata": {},
   "outputs": [],
   "source": []
  },
  {
   "cell_type": "code",
   "execution_count": null,
   "metadata": {},
   "outputs": [],
   "source": []
  },
  {
   "cell_type": "code",
   "execution_count": null,
   "metadata": {},
   "outputs": [],
   "source": []
  },
  {
   "cell_type": "code",
   "execution_count": null,
   "metadata": {},
   "outputs": [],
   "source": []
  },
  {
   "cell_type": "code",
   "execution_count": null,
   "metadata": {},
   "outputs": [],
   "source": [
    "toutes_les_images[0]"
   ]
  },
  {
   "cell_type": "code",
   "execution_count": null,
   "metadata": {},
   "outputs": [],
   "source": [
    "for my_file in toutes_les_images:\n",
    "    if my_file not in (liste_all_png_files_full):\n",
    "        os.remove(my_file)\n",
    "        print(my_file)"
   ]
  },
  {
   "cell_type": "code",
   "execution_count": null,
   "metadata": {},
   "outputs": [],
   "source": [
    "ls /mekeneocr/computer-vision-ocr/images | wc -l "
   ]
  },
  {
   "cell_type": "code",
   "execution_count": null,
   "metadata": {},
   "outputs": [],
   "source": [
    "read_vgg = []\n",
    "with open(\"/mekeneocr/computer-vision-ocr/vgg2/vgg.txt\", \"r\", encoding = \"utf-8\") as f:\n",
    "    read_vgg = f.readlines()\n",
    "    "
   ]
  },
  {
   "cell_type": "code",
   "execution_count": null,
   "metadata": {},
   "outputs": [],
   "source": [
    "[el for el in read_vgg if \"chafe.png\" in el]"
   ]
  },
  {
   "cell_type": "code",
   "execution_count": 110,
   "metadata": {},
   "outputs": [],
   "source": []
  },
  {
   "cell_type": "code",
   "execution_count": null,
   "metadata": {},
   "outputs": [],
   "source": []
  },
  {
   "cell_type": "code",
   "execution_count": null,
   "metadata": {},
   "outputs": [],
   "source": []
  },
  {
   "cell_type": "code",
   "execution_count": null,
   "metadata": {},
   "outputs": [],
   "source": []
  },
  {
   "cell_type": "code",
   "execution_count": 201,
   "metadata": {},
   "outputs": [],
   "source": [
    "#set the folders and files paths to avoid heavy calls in the functions\n",
    "vgg_csv = \"vgg8.csv\"\n",
    "vgg_csv_path = \"/mekeneocr/computer-vision-ocr/\"\n",
    "vgg2 = vgg_csv_path + vgg_csv\n",
    "\n",
    "\n",
    "\n",
    "#this is our dictionnary: to each alphabetic character including \"-\"\" and \"_\" we assign a number \n",
    "letter_to_class_map = thisdict = {\n",
    "  \"a\": \"0\",\n",
    "  \"b\": \"1\",\n",
    "  \"c\": \"2\",\n",
    "  \"d\": \"3\",\n",
    "  \"e\": \"4\",\n",
    "  \"f\": \"5\",\n",
    "  \"g\": \"6\",\n",
    "  \"h\": \"7\",\n",
    "  \"i\": \"8\",\n",
    "  \"j\": \"9\",\n",
    "  \"k\": \"10\",\n",
    "  \"l\": \"11\",\n",
    "  \"m\": \"12\",\n",
    "  \"n\": \"13\",\n",
    "  \"o\": \"14\",\n",
    "  \"p\": \"15\",\n",
    "  \"q\": \"16\",\n",
    "  \"r\": \"17\",\n",
    "  \"s\": \"18\",\n",
    "  \"t\": \"19\",\n",
    "  \"u\": \"20\",\n",
    "  \"v\": \"21\",\n",
    "  \"w\": \"22\",\n",
    "  \"x\": \"23\",\n",
    "  \"y\": \"24\",\n",
    "  \"z\": \"25\",\n",
    "  \"-\": \"26\",\n",
    "  \"A\": \"27\",\n",
    "  \"B\": \"28\",\n",
    "  \"C\": \"29\",\n",
    "  \"D\": \"30\",\n",
    "  \"E\": \"31\",\n",
    "  \"F\": \"32\",\n",
    "  \"G\": \"33\",\n",
    "  \"H\": \"34\",\n",
    "  \"I\": \"35\",\n",
    "  \"J\": \"36\",\n",
    "  \"K\": \"37\",\n",
    "  \"L\": \"38\",\n",
    "  \"M\": \"39\",\n",
    "  \"N\": \"40\",\n",
    "  \"O\": \"41\",\n",
    "  \"P\": \"42\",\n",
    "  \"Q\": \"43\",\n",
    "  \"R\": \"44\",\n",
    "  \"S\": \"45\",\n",
    "  \"T\": \"46\",\n",
    "  \"U\": \"47\",\n",
    "  \"V\": \"48\",\n",
    "  \"W\": \"49\",\n",
    "  \"X\": \"50\",\n",
    "  \"Y\": \"51\",\n",
    "  \"Z\": \"52\",\n",
    "  \"0\": \"53\",\n",
    "  \"1\": \"54\",\n",
    "  \"2\": \"55\",\n",
    "  \"3\": \"56\",\n",
    "  \"4\": \"57\",\n",
    "  \"5\": \"58\",\n",
    "  \"6\": \"59\",\n",
    "  \"7\": \"60\",\n",
    "  \"8\": \"61\",\n",
    "  \"9\": \"62\",\n",
    "  \"/\": \"63\",\n",
    "}\n"
   ]
  },
  {
   "cell_type": "code",
   "execution_count": 202,
   "metadata": {},
   "outputs": [],
   "source": [
    "def convert_vgg_yolo(vgg):\n",
    "    \"\"\"\"This function allows to convert the vgg annotations in the csv file into a txt file following the yolo annotations\"\"\"\n",
    "    #global output_file_\n",
    "    \n",
    "    f_vide =[]   #create an empty list\n",
    "    new_file = True \n",
    "    with open(vgg, \"r\", encoding='utf-8') as f: #read the vgg annotations csv file\n",
    "        f_vide = f.readlines() #store the lines of vgg.csv to the list\n",
    "    \n",
    "    assert len(f_vide) != 0   #check if the list in not empty\n",
    "    for line in tqdm.tqdm(f_vide):\n",
    "        \n",
    "        if (line == \"\\n\"):        #check if the line is empty\n",
    "            new_file = True       #pass to a new file\n",
    "            continue;\n",
    "        elif (line != \"\\n\"):      #check if the line is not empty\n",
    "            filename = line.split(',')[0]\n",
    "            my_dir = \"/mekeneocr/computer-vision-ocr/images_groupe8/\"\n",
    "            line_path = my_dir + filename   #store paths to line_path\n",
    "            label = my_dir + filename.split(\".\")[0] + '.txt'\n",
    "            if os.path.exists(line_path):        #check if path exists\n",
    "                with open(label, 'a', encoding = 'utf-8') as f2:\n",
    "\n",
    "\n",
    "                    x = float(line.split(',')[6].split(\":\")[1])  #coordinate of x\n",
    "                    y = float(line.split(',')[7].split(\":\")[1])  #coordinate of y\n",
    "                    width = float(line.split(',')[8].split(\":\")[1])  #value of width \n",
    "                    true_width = width - x\n",
    "                    height = float(line.split(',')[9].split(\":\")[1].split('}')[0])  #value of height\n",
    "                    \n",
    "                    try:\n",
    "\n",
    "                        assert true_width != 0\n",
    "                        assert height != 0\n",
    "                    except:\n",
    "                        with open ('./error8.txt', 'a', encoding = 'utf-8') as ferror:\n",
    "                            ferror.write(line_path)\n",
    "                            ferror.write(\"\\n\")\n",
    "                        continue;\n",
    "                    \n",
    "                    try:\n",
    "\n",
    "                        obj_class = line.split(',')[10].split(\":\")[1][2]\n",
    "                        obj_class = letter_to_class_map.get(obj_class)\n",
    "\n",
    "                        #open the image and get its size\n",
    "                        img = Image.open(line_path)\n",
    "                        size = img.size\n",
    "\n",
    "                        #Re-Dimensioning in order to fit the yolo format\n",
    "                        _x      = (Decimal(x) + Decimal(true_width/2)) / Decimal(size[0]) # relative position of center x of rect\n",
    "                        _y      = (Decimal(y) + Decimal(height/2)) / Decimal(size[1]) # relative position of center y of rect\n",
    "                        _width  = Decimal(true_width / size[0])\n",
    "                        _height = Decimal(height / size[1])\n",
    "                    \n",
    "                    \n",
    "                        \n",
    "                    \n",
    "                        #print(_x + _width/2)\n",
    "                        #print(_y + _height/2)\n",
    "\n",
    "                        assert _x <= 1\n",
    "                        assert _y <= 1\n",
    "                        #assert _x + _width/2 <= 1.2\n",
    "                        #assert _y + _height/2 <= 1.2\n",
    "\n",
    "\n",
    "                        f2.write(str(obj_class) + \" \" + str(round(_x, 10)) + \" \" + str(round(_y, 10)) + \" \" + str(round(_width, 10)) + \" \" + str(round(_height, 10)))\n",
    "                        f2.write(\"\\n\")\n",
    "                    except Exception as e:    #in case of error\n",
    "                        print(line_path)      #print the path where the error occured\n",
    "                        print(e)              #print the error occured\n",
    "                        #break \n",
    "                \n",
    "            \n",
    "                \n",
    "         "
   ]
  },
  {
   "cell_type": "code",
   "execution_count": null,
   "metadata": {},
   "outputs": [
    {
     "name": "stderr",
     "output_type": "stream",
     "text": [
      " 26%|██▌       | 13203/50381 [03:40<14:44, 42.03it/s]"
     ]
    }
   ],
   "source": [
    "def main():\n",
    "    convert_vgg_yolo(vgg2)\n",
    "    \n",
    "if __name__ == \"__main__\":\n",
    "    main()"
   ]
  },
  {
   "cell_type": "code",
   "execution_count": null,
   "metadata": {},
   "outputs": [],
   "source": []
  }
 ],
 "metadata": {
  "kernelspec": {
   "display_name": "Python 3",
   "language": "python",
   "name": "python3"
  },
  "language_info": {
   "codemirror_mode": {
    "name": "ipython",
    "version": 3
   },
   "file_extension": ".py",
   "mimetype": "text/x-python",
   "name": "python",
   "nbconvert_exporter": "python",
   "pygments_lexer": "ipython3",
   "version": "3.6.9"
  }
 },
 "nbformat": 4,
 "nbformat_minor": 2
}
